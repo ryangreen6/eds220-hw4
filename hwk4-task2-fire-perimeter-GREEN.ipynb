{
 "cells": [
  {
   "cell_type": "markdown",
   "id": "fb90e788-c928-4b47-beb3-50b83d48d2a8",
   "metadata": {},
   "source": [
    "# Visualizing the Thomas Fire Scar through False Color Imagery\n",
    "#### Author: Ryan Green\n",
    "#### GitHub Repository: https://github.com/ryangreen6/eds220-hw4"
   ]
  },
  {
   "cell_type": "markdown",
   "id": "fd5314ba-3b63-4ce0-b6cb-0bd5c10349d7",
   "metadata": {},
   "source": [
    "- The purpose of this notebook is to show how to load data, filter it, and save that filtered data into a new, easier to work with shape file. This code is used also in the `fire-scar` notebook, where the Thomas Fire shapefile is used to create a map on top of landsat imagery. \n",
    "\n",
    "- The most important aspects of this notebook are loading in libraries used to work with spatial data, as well as loading in data using appropriate filepaths. This data was retrieved from Data.gov, a great resource for data within the US. The data was retrieved from this link specifically: https://catalog.data.gov/dataset/california-fire-perimeters-all-b3436\n",
    "\n",
    "- `fires` is a dataset including all fires in California since 1878, and includes geometry for all their recorded perimeters.\n",
    "- `thomas_fire` is a shapefile I created, isolating the 2017 Thomas Fire from the entire `fires` dataset. "
   ]
  },
  {
   "cell_type": "markdown",
   "id": "032815bb-ad88-4eb7-b0ce-39e6ce180fc8",
   "metadata": {},
   "source": [
    "Loading Libraries"
   ]
  },
  {
   "cell_type": "code",
   "execution_count": 27,
   "id": "1f76c1bb-1358-4f4e-9fab-fa263183a076",
   "metadata": {
    "tags": []
   },
   "outputs": [],
   "source": [
    "import os\n",
    "import numpy as np\n",
    "import pandas as pd\n",
    "import geopandas as gpd\n",
    "import xarray as xr\n",
    "import rioxarray as rioxr\n",
    "import matplotlib.pyplot as plt"
   ]
  },
  {
   "cell_type": "markdown",
   "id": "4c8a8b68-4d5a-48f7-baee-c1350b015b87",
   "metadata": {},
   "source": [
    "2a. I retrieved this data on the perimeter of the Thomas Fire from Data.gov, at the following url: https://catalog.data.gov/dataset/california-fire-perimeters-all-b3436.\n",
    "This data is in EPSG:3857 and is projected. This data comes from a larger dataset of all fire perimeters in California since 1878, and I queried while loading the data to narrow down to the Thomas Fire in 2017. Did you know there were 7 other Thomas Fires?\n"
   ]
  },
  {
   "cell_type": "markdown",
   "id": "e562f50a-9bac-41cd-95bd-8192444a09ef",
   "metadata": {},
   "source": [
    "Loading Data"
   ]
  },
  {
   "cell_type": "code",
   "execution_count": 28,
   "id": "e839160d-a3d1-4556-8b10-60835e5bbcca",
   "metadata": {
    "tags": []
   },
   "outputs": [],
   "source": [
    "fires = gpd.read_file(\"fire_perimeters/California_Fire_Perimeters_(all).shp\")\n",
    "\n",
    "#2b\n",
    "thomas_fire = fires[(fires['FIRE_NAME'] == 'THOMAS') & (fires['YEAR_'] == 2017)]\n",
    "\n",
    "#2c\n",
    "thomas_fire.to_file(\"data/thomas_fire.shp\")\n",
    "\n",
    "# Data retrieved from: https://catalog.data.gov/dataset/california-fire-perimeters-all-b3436"
   ]
  },
  {
   "cell_type": "markdown",
   "id": "9fca673a-5734-4706-b88e-cf5db7c55a0f",
   "metadata": {},
   "source": [
    "2d. I chose the .shp file format because this is a polygon shape. "
   ]
  },
  {
   "cell_type": "markdown",
   "id": "d0ed1d83-59d2-4239-af47-b38b44a166ed",
   "metadata": {},
   "source": [
    "Simple data exploration on Fires"
   ]
  },
  {
   "cell_type": "code",
   "execution_count": 29,
   "id": "a2dea5f9-bca4-4f2a-ab5b-662f0ec253cf",
   "metadata": {
    "tags": []
   },
   "outputs": [
    {
     "name": "stdout",
     "output_type": "stream",
     "text": [
      "(22261, 19)\n",
      "YEAR_            int64\n",
      "STATE           object\n",
      "AGENCY          object\n",
      "UNIT_ID         object\n",
      "FIRE_NAME       object\n",
      "INC_NUM         object\n",
      "ALARM_DATE      object\n",
      "CONT_DATE       object\n",
      "CAUSE            int64\n",
      "C_METHOD         int64\n",
      "OBJECTIVE        int64\n",
      "GIS_ACRES      float64\n",
      "COMMENTS        object\n",
      "COMPLEX_NA      object\n",
      "IRWINID         object\n",
      "FIRE_NUM        object\n",
      "COMPLEX_ID      object\n",
      "DECADES          int64\n",
      "geometry      geometry\n",
      "dtype: object\n"
     ]
    }
   ],
   "source": [
    "print(fires.shape)\n",
    "print(fires.dtypes)"
   ]
  },
  {
   "cell_type": "markdown",
   "id": "dc255c3f-48e0-46ef-b88f-7a4bac1e57ff",
   "metadata": {
    "tags": []
   },
   "source": [
    "Simple data exploration on thomas_fire"
   ]
  },
  {
   "cell_type": "code",
   "execution_count": 30,
   "id": "d4560d04-658b-41ba-93ed-389133a50ec7",
   "metadata": {
    "tags": []
   },
   "outputs": [
    {
     "data": {
      "text/html": [
       "<div>\n",
       "<style scoped>\n",
       "    .dataframe tbody tr th:only-of-type {\n",
       "        vertical-align: middle;\n",
       "    }\n",
       "\n",
       "    .dataframe tbody tr th {\n",
       "        vertical-align: top;\n",
       "    }\n",
       "\n",
       "    .dataframe thead th {\n",
       "        text-align: right;\n",
       "    }\n",
       "</style>\n",
       "<table border=\"1\" class=\"dataframe\">\n",
       "  <thead>\n",
       "    <tr style=\"text-align: right;\">\n",
       "      <th></th>\n",
       "      <th>YEAR_</th>\n",
       "      <th>STATE</th>\n",
       "      <th>AGENCY</th>\n",
       "      <th>UNIT_ID</th>\n",
       "      <th>FIRE_NAME</th>\n",
       "      <th>INC_NUM</th>\n",
       "      <th>ALARM_DATE</th>\n",
       "      <th>CONT_DATE</th>\n",
       "      <th>CAUSE</th>\n",
       "      <th>C_METHOD</th>\n",
       "      <th>OBJECTIVE</th>\n",
       "      <th>GIS_ACRES</th>\n",
       "      <th>COMMENTS</th>\n",
       "      <th>COMPLEX_NA</th>\n",
       "      <th>IRWINID</th>\n",
       "      <th>FIRE_NUM</th>\n",
       "      <th>COMPLEX_ID</th>\n",
       "      <th>DECADES</th>\n",
       "      <th>geometry</th>\n",
       "    </tr>\n",
       "  </thead>\n",
       "  <tbody>\n",
       "    <tr>\n",
       "      <th>0</th>\n",
       "      <td>2023</td>\n",
       "      <td>CA</td>\n",
       "      <td>CDF</td>\n",
       "      <td>SKU</td>\n",
       "      <td>WHITWORTH</td>\n",
       "      <td>00004808</td>\n",
       "      <td>2023-06-17</td>\n",
       "      <td>2023-06-17</td>\n",
       "      <td>5</td>\n",
       "      <td>1</td>\n",
       "      <td>1</td>\n",
       "      <td>5.72913</td>\n",
       "      <td>None</td>\n",
       "      <td>None</td>\n",
       "      <td>{7985848C-0AC2-4BA4-8F0E-29F778652E61}</td>\n",
       "      <td>None</td>\n",
       "      <td>None</td>\n",
       "      <td>2020</td>\n",
       "      <td>POLYGON ((-13682443.000 5091132.739, -13682445...</td>\n",
       "    </tr>\n",
       "    <tr>\n",
       "      <th>1</th>\n",
       "      <td>2023</td>\n",
       "      <td>CA</td>\n",
       "      <td>LRA</td>\n",
       "      <td>BTU</td>\n",
       "      <td>KAISER</td>\n",
       "      <td>00010225</td>\n",
       "      <td>2023-06-02</td>\n",
       "      <td>2023-06-02</td>\n",
       "      <td>5</td>\n",
       "      <td>1</td>\n",
       "      <td>1</td>\n",
       "      <td>13.60240</td>\n",
       "      <td>None</td>\n",
       "      <td>None</td>\n",
       "      <td>{43EBCC88-B3AC-48EB-8EF5-417FE0939CCF}</td>\n",
       "      <td>None</td>\n",
       "      <td>None</td>\n",
       "      <td>2020</td>\n",
       "      <td>POLYGON ((-13576727.142 4841226.161, -13576726...</td>\n",
       "    </tr>\n",
       "    <tr>\n",
       "      <th>2</th>\n",
       "      <td>2023</td>\n",
       "      <td>CA</td>\n",
       "      <td>CDF</td>\n",
       "      <td>AEU</td>\n",
       "      <td>JACKSON</td>\n",
       "      <td>00017640</td>\n",
       "      <td>2023-07-01</td>\n",
       "      <td>2023-07-02</td>\n",
       "      <td>2</td>\n",
       "      <td>1</td>\n",
       "      <td>1</td>\n",
       "      <td>27.81450</td>\n",
       "      <td>None</td>\n",
       "      <td>None</td>\n",
       "      <td>{B64E1355-BF1D-441A-95D0-BC1FBB93483B}</td>\n",
       "      <td>None</td>\n",
       "      <td>None</td>\n",
       "      <td>2020</td>\n",
       "      <td>POLYGON ((-13459243.000 4621236.000, -13458968...</td>\n",
       "    </tr>\n",
       "    <tr>\n",
       "      <th>3</th>\n",
       "      <td>2023</td>\n",
       "      <td>CA</td>\n",
       "      <td>CDF</td>\n",
       "      <td>AEU</td>\n",
       "      <td>CARBON</td>\n",
       "      <td>00018821</td>\n",
       "      <td>2023-07-11</td>\n",
       "      <td>2023-07-11</td>\n",
       "      <td>9</td>\n",
       "      <td>1</td>\n",
       "      <td>1</td>\n",
       "      <td>58.76020</td>\n",
       "      <td>None</td>\n",
       "      <td>None</td>\n",
       "      <td>{CB41DB0A-E4B1-489D-A4EA-738F2CD6DB3B}</td>\n",
       "      <td>None</td>\n",
       "      <td>None</td>\n",
       "      <td>2020</td>\n",
       "      <td>POLYGON ((-13468077.000 4642260.000, -13467975...</td>\n",
       "    </tr>\n",
       "    <tr>\n",
       "      <th>4</th>\n",
       "      <td>2023</td>\n",
       "      <td>CA</td>\n",
       "      <td>CDF</td>\n",
       "      <td>AEU</td>\n",
       "      <td>LIBERTY</td>\n",
       "      <td>00018876</td>\n",
       "      <td>2023-07-11</td>\n",
       "      <td>2023-07-12</td>\n",
       "      <td>14</td>\n",
       "      <td>1</td>\n",
       "      <td>1</td>\n",
       "      <td>70.97900</td>\n",
       "      <td>None</td>\n",
       "      <td>None</td>\n",
       "      <td>{F83F70A4-07A7-40B8-BD51-10CCC1C30D63}</td>\n",
       "      <td>None</td>\n",
       "      <td>None</td>\n",
       "      <td>2020</td>\n",
       "      <td>POLYGON ((-13468418.000 4614853.000, -13468428...</td>\n",
       "    </tr>\n",
       "  </tbody>\n",
       "</table>\n",
       "</div>"
      ],
      "text/plain": [
       "   YEAR_ STATE AGENCY UNIT_ID  FIRE_NAME   INC_NUM  ALARM_DATE   CONT_DATE  \\\n",
       "0   2023    CA    CDF     SKU  WHITWORTH  00004808  2023-06-17  2023-06-17   \n",
       "1   2023    CA    LRA     BTU     KAISER  00010225  2023-06-02  2023-06-02   \n",
       "2   2023    CA    CDF     AEU    JACKSON  00017640  2023-07-01  2023-07-02   \n",
       "3   2023    CA    CDF     AEU     CARBON  00018821  2023-07-11  2023-07-11   \n",
       "4   2023    CA    CDF     AEU    LIBERTY  00018876  2023-07-11  2023-07-12   \n",
       "\n",
       "   CAUSE  C_METHOD  OBJECTIVE  GIS_ACRES COMMENTS COMPLEX_NA  \\\n",
       "0      5         1          1    5.72913     None       None   \n",
       "1      5         1          1   13.60240     None       None   \n",
       "2      2         1          1   27.81450     None       None   \n",
       "3      9         1          1   58.76020     None       None   \n",
       "4     14         1          1   70.97900     None       None   \n",
       "\n",
       "                                  IRWINID FIRE_NUM COMPLEX_ID  DECADES  \\\n",
       "0  {7985848C-0AC2-4BA4-8F0E-29F778652E61}     None       None     2020   \n",
       "1  {43EBCC88-B3AC-48EB-8EF5-417FE0939CCF}     None       None     2020   \n",
       "2  {B64E1355-BF1D-441A-95D0-BC1FBB93483B}     None       None     2020   \n",
       "3  {CB41DB0A-E4B1-489D-A4EA-738F2CD6DB3B}     None       None     2020   \n",
       "4  {F83F70A4-07A7-40B8-BD51-10CCC1C30D63}     None       None     2020   \n",
       "\n",
       "                                            geometry  \n",
       "0  POLYGON ((-13682443.000 5091132.739, -13682445...  \n",
       "1  POLYGON ((-13576727.142 4841226.161, -13576726...  \n",
       "2  POLYGON ((-13459243.000 4621236.000, -13458968...  \n",
       "3  POLYGON ((-13468077.000 4642260.000, -13467975...  \n",
       "4  POLYGON ((-13468418.000 4614853.000, -13468428...  "
      ]
     },
     "execution_count": 30,
     "metadata": {},
     "output_type": "execute_result"
    }
   ],
   "source": [
    "fires.head()"
   ]
  },
  {
   "cell_type": "code",
   "execution_count": 31,
   "id": "65f97fd9-4cdc-434b-8b8b-8b81c15fdf0a",
   "metadata": {
    "tags": []
   },
   "outputs": [
    {
     "name": "stdout",
     "output_type": "stream",
     "text": [
      "(1, 19)\n",
      "YEAR_            int64\n",
      "STATE           object\n",
      "AGENCY          object\n",
      "UNIT_ID         object\n",
      "FIRE_NAME       object\n",
      "INC_NUM         object\n",
      "ALARM_DATE      object\n",
      "CONT_DATE       object\n",
      "CAUSE            int64\n",
      "C_METHOD         int64\n",
      "OBJECTIVE        int64\n",
      "GIS_ACRES      float64\n",
      "COMMENTS        object\n",
      "COMPLEX_NA      object\n",
      "IRWINID         object\n",
      "FIRE_NUM        object\n",
      "COMPLEX_ID      object\n",
      "DECADES          int64\n",
      "geometry      geometry\n",
      "dtype: object\n"
     ]
    }
   ],
   "source": [
    "print(thomas_fire.shape)\n",
    "print(thomas_fire.dtypes)"
   ]
  },
  {
   "cell_type": "markdown",
   "id": "42b332ca-979f-4b54-ad98-dae7c4ea5db3",
   "metadata": {
    "tags": []
   },
   "source": [
    "Plotting thomas_fire"
   ]
  },
  {
   "cell_type": "code",
   "execution_count": 32,
   "id": "3e5b3754-1b98-4aa0-ba61-1a236d71fdf7",
   "metadata": {
    "tags": []
   },
   "outputs": [
    {
     "data": {
      "text/plain": [
       "<Axes: >"
      ]
     },
     "execution_count": 32,
     "metadata": {},
     "output_type": "execute_result"
    },
    {
     "data": {
      "image/png": "[encoded data removed]",
      "text/plain": [
       "<Figure size 640x480 with 1 Axes>"
      ]
     },
     "metadata": {},
     "output_type": "display_data"
    }
   ],
   "source": [
    "thomas_fire.plot()"
   ]
  },
  {
   "cell_type": "markdown",
   "id": "74b47d74-c06f-4a4e-b978-3b49fd537a15",
   "metadata": {},
   "source": [
    "We can also plot only the boundary of the shapefile by using `.boundary`"
   ]
  },
  {
   "cell_type": "markdown",
   "id": "a62ec8a7-a1a8-4dad-bd29-72e4da900533",
   "metadata": {},
   "source": [
    "Plotting thomas_fire boundary using `.boundary()`"
   ]
  },
  {
   "cell_type": "code",
   "execution_count": 33,
   "id": "48f547ce-53c4-47e5-b06b-2f2220192f05",
   "metadata": {
    "tags": []
   },
   "outputs": [
    {
     "data": {
      "text/plain": [
       "<Axes: >"
      ]
     },
     "execution_count": 33,
     "metadata": {},
     "output_type": "execute_result"
    },
    {
     "data": {
      "image/png": "[encoded data removed]",
      "text/plain": [
       "<Figure size 640x480 with 1 Axes>"
      ]
     },
     "metadata": {},
     "output_type": "display_data"
    }
   ],
   "source": [
    "thomas_fire.boundary.plot()"
   ]
  },
  {
   "cell_type": "code",
   "execution_count": null,
   "id": "b8abd88e-cdf3-4f75-b16f-d44f92081cad",
   "metadata": {},
   "outputs": [],
   "source": []
  }
 ],
 "metadata": {
  "kernelspec": {
   "display_name": "Anaconda 3 (EDS220)",
   "language": "python",
   "name": "eds220-env"
  },
  "language_info": {
   "codemirror_mode": {
    "name": "ipython",
    "version": 3
   },
   "file_extension": ".py",
   "mimetype": "text/x-python",
   "name": "python",
   "nbconvert_exporter": "python",
   "pygments_lexer": "ipython3",
   "version": "3.11.4"
  }
 },
 "nbformat": 4,
 "nbformat_minor": 5
}
